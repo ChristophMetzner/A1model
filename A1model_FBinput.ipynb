{
 "cells": [
  {
   "cell_type": "code",
   "execution_count": 1,
   "metadata": {
    "id": "yr-KTdron0Ct"
   },
   "outputs": [],
   "source": [
    "import numpy as np\n",
    "import matplotlib.pyplot as plt\n",
    "import matplotlib.mlab as mlab\n",
    "import pickle"
   ]
  },
  {
   "cell_type": "code",
   "execution_count": 2,
   "metadata": {
    "id": "-tS0Y9gTBYNQ"
   },
   "outputs": [],
   "source": [
    "%matplotlib inline"
   ]
  },
  {
   "cell_type": "code",
   "execution_count": 3,
   "metadata": {},
   "outputs": [],
   "source": [
    "fb_freq  = 40. # frequency (in Hz) of the ASSR stimulus and hence also the feedback input\n",
    "fb_delay = 250. # delay of the feedback in ms (relative to the stimulus onset!)\n",
    "\n",
    "stim_onset = 1500. # onset of the ASSR stimulus\n",
    "stim_duration = 1000. # duration of the ASSR stimulus\n",
    "shift = 12.5 # shift of the feedback relative to the ASSR input\n",
    "\n",
    "fb_duration = stim_duration - fb_delay # duration of the feedback \n",
    "period = 1./fb_freq*1000 # period of an ASSR cycle\n",
    "\n",
    "num_cells = 50 # number of feedback units\n",
    "\n",
    "jitter_mean = 0.0 # mean of the temporal jitter for spike times of units\n",
    "jitter_std  = 2.5 # standard deviation of the temporal jitter for spike times of units"
   ]
  },
  {
   "cell_type": "code",
   "execution_count": 4,
   "metadata": {},
   "outputs": [
    {
     "name": "stdout",
     "output_type": "stream",
     "text": [
      "[1762.5, 1787.5, 1812.5, 1837.5, 1862.5, 1887.5, 1912.5, 1937.5, 1962.5, 1987.5, 2012.5, 2037.5, 2062.5, 2087.5, 2112.5, 2137.5, 2162.5, 2187.5, 2212.5, 2237.5, 2262.5, 2287.5, 2312.5, 2337.5, 2362.5, 2387.5, 2412.5, 2437.5, 2462.5, 2487.5, 2512.5, 2537.5]\n"
     ]
    }
   ],
   "source": [
    "# spk_vector contains the times of feedback input based on the period of the ASSR with a relative shift\n",
    "# start is fb_delay after stimulus_onset\n",
    "spk_vector = []\n",
    "#print(type(spk_veco))\n",
    "t = stim_onset + fb_delay\n",
    "while t<(stim_onset+stim_duration+period+shift):\n",
    "    spk_vector.append(t+shift)\n",
    "    t += period\n",
    "    \n",
    "print(spk_vector)"
   ]
  },
  {
   "cell_type": "code",
   "execution_count": 5,
   "metadata": {},
   "outputs": [
    {
     "name": "stdout",
     "output_type": "stream",
     "text": [
      "<class 'list'>\n"
     ]
    }
   ],
   "source": [
    "# each feedback unit takes the exact spike times of the spk_vector and temporally jitters them to create \n",
    "# some variability. jitter is normal, centered around jitter_mean (which should probably be 0) and has a\n",
    "# standard deviation of jitter_std\n",
    "spk_times = []\n",
    "for i in range(num_cells):\n",
    "    jitter_vec = []\n",
    "    for j in range(len(spk_vector)):\n",
    "        jitter = np.random.normal(loc=jitter_mean, scale=jitter_std)\n",
    "        jitter_vec.append(spk_vector[j]+jitter)\n",
    "    spk_times.append(jitter_vec)\n",
    "print(type(spk_times))"
   ]
  },
  {
   "cell_type": "code",
   "execution_count": 6,
   "metadata": {},
   "outputs": [],
   "source": [
    "# save spike times (this serves as input to the model)\n",
    "with open(\"FBinput_test\", \"wb\") as fp:   #Pickling\n",
    "    pickle.dump(spk_times, fp)"
   ]
  },
  {
   "cell_type": "code",
   "execution_count": null,
   "metadata": {},
   "outputs": [],
   "source": []
  }
 ],
 "metadata": {
  "colab": {
   "provenance": []
  },
  "kernelspec": {
   "display_name": "a1model",
   "language": "python",
   "name": "a1model"
  },
  "language_info": {
   "codemirror_mode": {
    "name": "ipython",
    "version": 3
   },
   "file_extension": ".py",
   "mimetype": "text/x-python",
   "name": "python",
   "nbconvert_exporter": "python",
   "pygments_lexer": "ipython3",
   "version": "3.10.12"
  }
 },
 "nbformat": 4,
 "nbformat_minor": 1
}
