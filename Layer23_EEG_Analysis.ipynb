{
 "cells": [
  {
   "cell_type": "code",
   "execution_count": 1,
   "metadata": {
    "id": "yr-KTdron0Ct",
    "ExecuteTime": {
     "end_time": "2023-10-11T10:28:43.178180800Z",
     "start_time": "2023-10-11T10:28:43.106889400Z"
    }
   },
   "outputs": [],
   "source": [
    "import numpy as np\n",
    "import matplotlib.pyplot as plt\n",
    "import matplotlib.mlab as mlab\n",
    "import seaborn as sns\n",
    "import pandas as pd\n",
    "import pickle\n",
    "import lfpykit\n",
    "#from lfpykit.eegmegcalc import NYHeadModel\n",
    "from lfpykit.eegmegcalc import FourSphereVolumeConductor\n",
    "#import LFPy\n",
    "from scipy import signal as ss"
   ]
  },
  {
   "cell_type": "code",
   "execution_count": 2,
   "metadata": {
    "id": "-tS0Y9gTBYNQ",
    "ExecuteTime": {
     "end_time": "2023-10-11T10:28:43.227504Z",
     "start_time": "2023-10-11T10:28:43.184240300Z"
    }
   },
   "outputs": [],
   "source": [
    "%matplotlib inline"
   ]
  },
  {
   "cell_type": "code",
   "execution_count": 3,
   "metadata": {
    "id": "DgDPiL2yIjAJ",
    "ExecuteTime": {
     "end_time": "2023-10-11T10:28:43.227504Z",
     "start_time": "2023-10-11T10:28:43.204801900Z"
    }
   },
   "outputs": [],
   "source": [
    "def bandPassFilter(signal,low=0.1, high=130.):\n",
    "\torder = 2\n",
    "\tb, a = ss.butter(order, [low,high],btype='bandpass',fs=fs)\n",
    "\ty = ss.filtfilt(b, a, signal)\n",
    "\treturn y"
   ]
  },
  {
   "cell_type": "markdown",
   "metadata": {
    "id": "kB4JBjE9x4nV"
   },
   "source": [
    "Calculate EEG/MEG signals from simulation data"
   ]
  },
  {
   "cell_type": "code",
   "execution_count": 4,
   "metadata": {
    "ExecuteTime": {
     "end_time": "2023-10-11T10:46:14.738006100Z",
     "start_time": "2023-10-11T10:28:43.208797700Z"
    }
   },
   "outputs": [],
   "source": [
    "file = open('data/Without_ICThalInput/samn_ASSR_wE_1_5_wI_1_0_data.pkl','rb')\n",
    "data = pickle.load(file)"
   ]
  },
  {
   "cell_type": "code",
   "execution_count": 5,
   "metadata": {
    "ExecuteTime": {
     "end_time": "2023-10-11T10:46:15.122221400Z",
     "start_time": "2023-10-11T10:46:14.699048400Z"
    }
   },
   "outputs": [
    {
     "name": "stdout",
     "output_type": "stream",
     "text": [
      "dict_keys(['LFP', 'spkt', 'spkid', 'dipoleSum', 't', 'popRates', 'avgRate'])\n",
      "(400000, 3)\n"
     ]
    }
   ],
   "source": [
    "print(data['simData'].keys())\n",
    "print(np.shape(data['simData']['dipoleSum']))"
   ]
  },
  {
   "cell_type": "code",
   "execution_count": 6,
   "metadata": {
    "id": "mt0D1I9Tx48w",
    "ExecuteTime": {
     "end_time": "2023-10-11T10:46:15.131366400Z",
     "start_time": "2023-10-11T10:46:15.094824600Z"
    }
   },
   "outputs": [],
   "source": [
    "dp = data['simData']['dipoleSum']"
   ]
  },
  {
   "cell_type": "code",
   "execution_count": 7,
   "metadata": {
    "ExecuteTime": {
     "end_time": "2023-10-11T10:46:15.188830Z",
     "start_time": "2023-10-11T10:46:15.095334700Z"
    }
   },
   "outputs": [
    {
     "name": "stdout",
     "output_type": "stream",
     "text": [
      "[[ 5.25629117e+01 -5.99567352e+02 -2.81184358e-11]\n",
      " [ 2.39942901e+02 -3.10855189e+03  2.29011655e-12]\n",
      " [ 1.77413276e+02 -2.49524130e+03  3.56231736e-11]\n",
      " ...\n",
      " [-2.54312605e+04 -1.46843169e+05  9.43156404e-11]\n",
      " [-2.55147509e+04 -1.46731465e+05  7.81995923e-11]\n",
      " [-2.55531476e+04 -1.46306466e+05  9.84474283e-11]]\n"
     ]
    }
   ],
   "source": [
    "print(dp)"
   ]
  },
  {
   "cell_type": "code",
   "execution_count": 8,
   "metadata": {
    "id": "dLzvVuoQe33l",
    "ExecuteTime": {
     "end_time": "2023-10-11T10:46:17.934191600Z",
     "start_time": "2023-10-11T10:46:15.099411400Z"
    }
   },
   "outputs": [],
   "source": [
    "# FOUR SPHERE MODEL\n",
    "radii = [79000., 80000., 85000., 90000.]  # (µm)\n",
    "sigmas = [0.47, 1.71, 0.02, 0.41]  # (S/m) from Mazza et al., PLoS Comp Biol, 2023\n",
    "#sigmas = [0.047, 0.171, 0.02, 0.041]  # (S/m) \n",
    "r_electrodes = np.array([[0., 90000, 0.]])#, [0., 85000., 0.]]) # (µm)\n",
    "pos = np.array([0., 78257., 0.])\n",
    "#L23_pos = np.array([0., 0., 72500.])\n",
    "sphere_model = FourSphereVolumeConductor(r_electrodes,radii, sigmas)\n",
    "# # current dipole moment\n",
    "#p = dp\n",
    "# # compute potential\n",
    "signal = sphere_model.get_dipole_potential(dp.transpose(), pos)  # (mV)"
   ]
  },
  {
   "cell_type": "code",
   "execution_count": 9,
   "metadata": {
    "ExecuteTime": {
     "end_time": "2023-10-11T10:46:17.944223200Z",
     "start_time": "2023-10-11T10:46:15.470757700Z"
    }
   },
   "outputs": [],
   "source": [
    "np.save('Test-EEG-Signal_woT.npy',signal)"
   ]
  },
  {
   "cell_type": "code",
   "execution_count": 10,
   "metadata": {
    "id": "wY1t192vqQEF",
    "ExecuteTime": {
     "end_time": "2023-10-11T10:46:17.944223200Z",
     "start_time": "2023-10-11T10:46:15.548464200Z"
    }
   },
   "outputs": [],
   "source": [
    "time = np.arange(1000,6000,6000/(np.shape(signal)[1])) \n",
    "eeg = signal[0]\n",
    "dt = 0.1\n",
    "fs = 1000./dt\n",
    "startindex = int(1000*(1./dt))"
   ]
  },
  {
   "cell_type": "code",
   "execution_count": 11,
   "metadata": {
    "ExecuteTime": {
     "end_time": "2023-10-11T10:46:17.944223200Z",
     "start_time": "2023-10-11T10:46:15.554305600Z"
    }
   },
   "outputs": [
    {
     "name": "stdout",
     "output_type": "stream",
     "text": [
      "(1, 400000)\n",
      "(333334,)\n",
      "(390000,)\n"
     ]
    }
   ],
   "source": [
    "print(np.shape(signal))\n",
    "print(np.shape(time))\n",
    "print(np.shape(eeg[startindex:]))"
   ]
  },
  {
   "cell_type": "code",
   "execution_count": 12,
   "metadata": {
    "id": "PNQH1rvLtFCc",
    "ExecuteTime": {
     "end_time": "2023-10-11T10:46:17.944223200Z",
     "start_time": "2023-10-11T10:46:15.595909600Z"
    }
   },
   "outputs": [],
   "source": [
    "nperseg = int(fs/2)\n",
    "eeg_filt = bandPassFilter(eeg[startindex:])\n",
    "eeg_freq, eeg_ps = ss.welch(eeg_filt, fs=fs, nperseg=nperseg, window='hann')\n"
   ]
  },
  {
   "cell_type": "code",
   "execution_count": 13,
   "metadata": {
    "colab": {
     "base_uri": "https://localhost:8080/",
     "height": 445
    },
    "id": "A1sZ4N6euU-d",
    "outputId": "3b2e5357-72ec-4c1b-ba4d-8db6acdcb5a9",
    "ExecuteTime": {
     "end_time": "2023-10-11T10:46:19.471845500Z",
     "start_time": "2023-10-11T10:46:15.737439300Z"
    }
   },
   "outputs": [
    {
     "ename": "ValueError",
     "evalue": "x and y must have same first dimension, but have shapes (333334,) and (390000,)",
     "output_type": "error",
     "traceback": [
      "\u001B[0;31m---------------------------------------------------------------------------\u001B[0m",
      "\u001B[0;31mValueError\u001B[0m                                Traceback (most recent call last)",
      "Cell \u001B[0;32mIn[13], line 3\u001B[0m\n\u001B[1;32m      1\u001B[0m fig \u001B[38;5;241m=\u001B[39m plt\u001B[38;5;241m.\u001B[39mfigure(figsize\u001B[38;5;241m=\u001B[39m(\u001B[38;5;241m10\u001B[39m,\u001B[38;5;241m10\u001B[39m))\n\u001B[1;32m      2\u001B[0m ax1 \u001B[38;5;241m=\u001B[39m fig\u001B[38;5;241m.\u001B[39madd_subplot(\u001B[38;5;241m221\u001B[39m)\n\u001B[0;32m----> 3\u001B[0m \u001B[43max1\u001B[49m\u001B[38;5;241;43m.\u001B[39;49m\u001B[43mplot\u001B[49m\u001B[43m(\u001B[49m\u001B[43mtime\u001B[49m\u001B[43m,\u001B[49m\u001B[43m \u001B[49m\u001B[43meeg_filt\u001B[49m\u001B[43m,\u001B[49m\u001B[43m \u001B[49m\u001B[43mc\u001B[49m\u001B[38;5;241;43m=\u001B[39;49m\u001B[38;5;124;43m'\u001B[39;49m\u001B[38;5;124;43mk\u001B[39;49m\u001B[38;5;124;43m'\u001B[39;49m\u001B[43m)\u001B[49m\n\u001B[1;32m      4\u001B[0m ax1\u001B[38;5;241m.\u001B[39mset_xlabel(\u001B[38;5;124m'\u001B[39m\u001B[38;5;124mTime (ms)\u001B[39m\u001B[38;5;124m'\u001B[39m)\n\u001B[1;32m      5\u001B[0m ax1\u001B[38;5;241m.\u001B[39mset_ylabel(\u001B[38;5;124m'\u001B[39m\u001B[38;5;124mEEG (mV)\u001B[39m\u001B[38;5;124m'\u001B[39m)\n",
      "File \u001B[0;32m~/miniconda3/envs/ba_env/lib/python3.11/site-packages/matplotlib/axes/_axes.py:1721\u001B[0m, in \u001B[0;36mAxes.plot\u001B[0;34m(self, scalex, scaley, data, *args, **kwargs)\u001B[0m\n\u001B[1;32m   1478\u001B[0m \u001B[38;5;250m\u001B[39m\u001B[38;5;124;03m\"\"\"\u001B[39;00m\n\u001B[1;32m   1479\u001B[0m \u001B[38;5;124;03mPlot y versus x as lines and/or markers.\u001B[39;00m\n\u001B[1;32m   1480\u001B[0m \n\u001B[0;32m   (...)\u001B[0m\n\u001B[1;32m   1718\u001B[0m \u001B[38;5;124;03m(``'green'``) or hex strings (``'#008000'``).\u001B[39;00m\n\u001B[1;32m   1719\u001B[0m \u001B[38;5;124;03m\"\"\"\u001B[39;00m\n\u001B[1;32m   1720\u001B[0m kwargs \u001B[38;5;241m=\u001B[39m cbook\u001B[38;5;241m.\u001B[39mnormalize_kwargs(kwargs, mlines\u001B[38;5;241m.\u001B[39mLine2D)\n\u001B[0;32m-> 1721\u001B[0m lines \u001B[38;5;241m=\u001B[39m [\u001B[38;5;241m*\u001B[39m\u001B[38;5;28mself\u001B[39m\u001B[38;5;241m.\u001B[39m_get_lines(\u001B[38;5;28mself\u001B[39m, \u001B[38;5;241m*\u001B[39margs, data\u001B[38;5;241m=\u001B[39mdata, \u001B[38;5;241m*\u001B[39m\u001B[38;5;241m*\u001B[39mkwargs)]\n\u001B[1;32m   1722\u001B[0m \u001B[38;5;28;01mfor\u001B[39;00m line \u001B[38;5;129;01min\u001B[39;00m lines:\n\u001B[1;32m   1723\u001B[0m     \u001B[38;5;28mself\u001B[39m\u001B[38;5;241m.\u001B[39madd_line(line)\n",
      "File \u001B[0;32m~/miniconda3/envs/ba_env/lib/python3.11/site-packages/matplotlib/axes/_base.py:303\u001B[0m, in \u001B[0;36m_process_plot_var_args.__call__\u001B[0;34m(self, axes, data, *args, **kwargs)\u001B[0m\n\u001B[1;32m    301\u001B[0m     this \u001B[38;5;241m+\u001B[39m\u001B[38;5;241m=\u001B[39m args[\u001B[38;5;241m0\u001B[39m],\n\u001B[1;32m    302\u001B[0m     args \u001B[38;5;241m=\u001B[39m args[\u001B[38;5;241m1\u001B[39m:]\n\u001B[0;32m--> 303\u001B[0m \u001B[38;5;28;01myield from\u001B[39;00m \u001B[38;5;28;43mself\u001B[39;49m\u001B[38;5;241;43m.\u001B[39;49m\u001B[43m_plot_args\u001B[49m\u001B[43m(\u001B[49m\n\u001B[1;32m    304\u001B[0m \u001B[43m    \u001B[49m\u001B[43maxes\u001B[49m\u001B[43m,\u001B[49m\u001B[43m \u001B[49m\u001B[43mthis\u001B[49m\u001B[43m,\u001B[49m\u001B[43m \u001B[49m\u001B[43mkwargs\u001B[49m\u001B[43m,\u001B[49m\u001B[43m \u001B[49m\u001B[43mambiguous_fmt_datakey\u001B[49m\u001B[38;5;241;43m=\u001B[39;49m\u001B[43mambiguous_fmt_datakey\u001B[49m\u001B[43m)\u001B[49m\n",
      "File \u001B[0;32m~/miniconda3/envs/ba_env/lib/python3.11/site-packages/matplotlib/axes/_base.py:499\u001B[0m, in \u001B[0;36m_process_plot_var_args._plot_args\u001B[0;34m(self, axes, tup, kwargs, return_kwargs, ambiguous_fmt_datakey)\u001B[0m\n\u001B[1;32m    496\u001B[0m     axes\u001B[38;5;241m.\u001B[39myaxis\u001B[38;5;241m.\u001B[39mupdate_units(y)\n\u001B[1;32m    498\u001B[0m \u001B[38;5;28;01mif\u001B[39;00m x\u001B[38;5;241m.\u001B[39mshape[\u001B[38;5;241m0\u001B[39m] \u001B[38;5;241m!=\u001B[39m y\u001B[38;5;241m.\u001B[39mshape[\u001B[38;5;241m0\u001B[39m]:\n\u001B[0;32m--> 499\u001B[0m     \u001B[38;5;28;01mraise\u001B[39;00m \u001B[38;5;167;01mValueError\u001B[39;00m(\u001B[38;5;124mf\u001B[39m\u001B[38;5;124m\"\u001B[39m\u001B[38;5;124mx and y must have same first dimension, but \u001B[39m\u001B[38;5;124m\"\u001B[39m\n\u001B[1;32m    500\u001B[0m                      \u001B[38;5;124mf\u001B[39m\u001B[38;5;124m\"\u001B[39m\u001B[38;5;124mhave shapes \u001B[39m\u001B[38;5;132;01m{\u001B[39;00mx\u001B[38;5;241m.\u001B[39mshape\u001B[38;5;132;01m}\u001B[39;00m\u001B[38;5;124m and \u001B[39m\u001B[38;5;132;01m{\u001B[39;00my\u001B[38;5;241m.\u001B[39mshape\u001B[38;5;132;01m}\u001B[39;00m\u001B[38;5;124m\"\u001B[39m)\n\u001B[1;32m    501\u001B[0m \u001B[38;5;28;01mif\u001B[39;00m x\u001B[38;5;241m.\u001B[39mndim \u001B[38;5;241m>\u001B[39m \u001B[38;5;241m2\u001B[39m \u001B[38;5;129;01mor\u001B[39;00m y\u001B[38;5;241m.\u001B[39mndim \u001B[38;5;241m>\u001B[39m \u001B[38;5;241m2\u001B[39m:\n\u001B[1;32m    502\u001B[0m     \u001B[38;5;28;01mraise\u001B[39;00m \u001B[38;5;167;01mValueError\u001B[39;00m(\u001B[38;5;124mf\u001B[39m\u001B[38;5;124m\"\u001B[39m\u001B[38;5;124mx and y can be no greater than 2D, but have \u001B[39m\u001B[38;5;124m\"\u001B[39m\n\u001B[1;32m    503\u001B[0m                      \u001B[38;5;124mf\u001B[39m\u001B[38;5;124m\"\u001B[39m\u001B[38;5;124mshapes \u001B[39m\u001B[38;5;132;01m{\u001B[39;00mx\u001B[38;5;241m.\u001B[39mshape\u001B[38;5;132;01m}\u001B[39;00m\u001B[38;5;124m and \u001B[39m\u001B[38;5;132;01m{\u001B[39;00my\u001B[38;5;241m.\u001B[39mshape\u001B[38;5;132;01m}\u001B[39;00m\u001B[38;5;124m\"\u001B[39m)\n",
      "\u001B[0;31mValueError\u001B[0m: x and y must have same first dimension, but have shapes (333334,) and (390000,)"
     ]
    },
    {
     "data": {
      "text/plain": "<Figure size 1000x1000 with 1 Axes>",
      "image/png": "[encoded data removed]"
     },
     "metadata": {},
     "output_type": "display_data"
    }
   ],
   "source": [
    "fig = plt.figure(figsize=(10,10))\n",
    "ax1 = fig.add_subplot(221)\n",
    "ax1.plot(time, eeg_filt, c='k')\n",
    "ax1.set_xlabel('Time (ms)')\n",
    "ax1.set_ylabel('EEG (mV)')\n",
    "ax2 = fig.add_subplot(222)\n",
    "ax2.plot(eeg_freq, eeg_ps, c='k')\n",
    "ax2.set_xlim(0,30)\n",
    "ax2.set_xlabel('Frequency (Hz)')\n",
    "ax2.set_ylabel('Power (V^2/Hz)')\n",
    "\n",
    "plt.savefig('EEG-Signal-PSD.png', dpi=200,bbox_inches = \"tight\")"
   ]
  },
  {
   "cell_type": "code",
   "execution_count": null,
   "metadata": {
    "id": "C149rZYQsv85",
    "ExecuteTime": {
     "start_time": "2023-10-11T10:46:19.471845500Z"
    }
   },
   "outputs": [],
   "source": []
  }
 ],
 "metadata": {
  "colab": {
   "provenance": []
  },
  "kernelspec": {
   "display_name": "Python 3 (ipykernel)",
   "language": "python",
   "name": "python3"
  },
  "language_info": {
   "codemirror_mode": {
    "name": "ipython",
    "version": 3
   },
   "file_extension": ".py",
   "mimetype": "text/x-python",
   "name": "python",
   "nbconvert_exporter": "python",
   "pygments_lexer": "ipython3",
   "version": "3.10.12"
  }
 },
 "nbformat": 4,
 "nbformat_minor": 1
}
