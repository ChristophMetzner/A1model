{
 "cells": [
  {
   "cell_type": "code",
   "execution_count": 1,
   "metadata": {
    "id": "yr-KTdron0Ct"
   },
   "outputs": [],
   "source": [
    "import numpy as np\n",
    "import matplotlib.pyplot as plt\n",
    "import matplotlib.mlab as mlab\n",
    "import seaborn as sns\n",
    "import pandas as pd\n",
    "import pickle\n",
    "import lfpykit\n",
    "#from lfpykit.eegmegcalc import NYHeadModel\n",
    "from lfpykit.eegmegcalc import FourSphereVolumeConductor\n",
    "from lfpykit.eegmegcalc import InfiniteHomogeneousVolCondMEG as MEG\n",
    "#import LFPy\n",
    "from scipy import signal as ss"
   ]
  },
  {
   "cell_type": "code",
   "execution_count": 2,
   "metadata": {
    "id": "-tS0Y9gTBYNQ"
   },
   "outputs": [],
   "source": [
    "%matplotlib inline"
   ]
  },
  {
   "cell_type": "code",
   "execution_count": 3,
   "metadata": {
    "id": "DgDPiL2yIjAJ"
   },
   "outputs": [],
   "source": [
    "def bandPassFilter(signal,low=0.1, high=130.):\n",
    "\torder = 2\n",
    "\tb, a = ss.butter(order, [low,high],btype='bandpass',fs=fs)\n",
    "\ty = ss.filtfilt(b, a, signal)\n",
    "\treturn y"
   ]
  },
  {
   "cell_type": "markdown",
   "metadata": {
    "id": "kB4JBjE9x4nV"
   },
   "source": [
    "# Calculate EEG/MEG signals from simulation data"
   ]
  },
  {
   "cell_type": "code",
   "execution_count": null,
   "metadata": {},
   "outputs": [],
   "source": [
    "file = open('data/Resting_state/samn_ASSR_wE_1_5_wI_1_0_data.pkl','rb')\n",
    "data = pickle.load(file)"
   ]
  },
  {
   "cell_type": "code",
   "execution_count": null,
   "metadata": {
    "id": "mt0D1I9Tx48w"
   },
   "outputs": [],
   "source": [
    "dp = data['simData']['dipoleSum']"
   ]
  },
  {
   "cell_type": "code",
   "execution_count": null,
   "metadata": {},
   "outputs": [],
   "source": [
    "file = open('data/Resting_state/spontaneous_data.pkl','rb')\n",
    "data = pickle.load(file)"
   ]
  },
  {
   "cell_type": "code",
   "execution_count": null,
   "metadata": {},
   "outputs": [],
   "source": [
    "dp = data['simData']['dipoleSum']\n",
    "print(np.shape(dp))"
   ]
  },
  {
   "cell_type": "markdown",
   "metadata": {},
   "source": [
    "## EEG Signal"
   ]
  },
  {
   "cell_type": "code",
   "execution_count": null,
   "metadata": {
    "id": "dLzvVuoQe33l"
   },
   "outputs": [],
   "source": [
    "# FOUR SPHERE MODEL\n",
    "radii = [79000., 80000., 85000., 90000.]  # (µm)\n",
    "sigmas = [0.47, 1.71, 0.02, 0.41]  # (S/m) from Mazza et al., PLoS Comp Biol, 2023\n",
    "r_electrodes = np.array([[0., 0., 90000.]]) # (µm)\n",
    "pos = np.array([0., 78000.,0.]) # That's 725um in depth, check other depths!\n",
    "sphere_model = FourSphereVolumeConductor(r_electrodes,radii, sigmas)\n",
    "# # compute potential\n",
    "signal = sphere_model.get_dipole_potential(dp.transpose(), pos)  # (mV)"
   ]
  },
  {
   "cell_type": "code",
   "execution_count": null,
   "metadata": {},
   "outputs": [],
   "source": [
    "fs = 10000\n",
    "s = int(4 * fs)\n",
    "e = int(4.5 * fs)\n",
    "\n",
    "eeg = signal[0]\n",
    "times = np.arange(0,6000,6000/len(eeg)) # adjust to your simulation times"
   ]
  },
  {
   "cell_type": "code",
   "execution_count": null,
   "metadata": {},
   "outputs": [],
   "source": [
    "#######################\n",
    "# Plot dp moments & EEG\n",
    "#######################\n",
    "\n",
    "fig, axes = plt.subplots(figsize=(12,14),ncols=1,nrows=4)\n",
    "\n",
    "\n",
    "axes[0].plot(times[s:e],eeg[s:e], lw=0.5) \n",
    "# plot dipolemoments \n",
    "for dp_comp in [0,1,2]: # x, y, z components of dipole\n",
    "        axes[dp_comp+1].plot(times[s:e],dp[s:e,dp_comp], lw=.5)\n",
    "    \n",
    "# visual formatting\n",
    "[ax.spines[spine].set_visible(False) for spine in ['top','right'] for ax in axes]\n",
    "[ax.set_xlabel('Time (ms)',fontsize=16) for ax in axes]\n",
    "\n",
    "\n",
    "axes[0].set_ylabel('EEG potential (mV)',fontsize=16)\n",
    "axes[1].set_ylabel('X dp moment (nA*µm)',fontsize=16)\n",
    "axes[2].set_ylabel('Y dp moment (nA*µm)',fontsize=16)\n",
    "_ = axes[3].set_ylabel('Z dp moment (nA*µm)',fontsize=16)\n",
    "\n",
    "#plt.savefig('EEG-Dipole-components-A1model.png',dpi=200)"
   ]
  },
  {
   "cell_type": "code",
   "execution_count": null,
   "metadata": {},
   "outputs": [],
   "source": [
    "#######################\n",
    "# Calc & plot PSD\n",
    "#######################\n",
    "\n",
    "fig,axes = plt.subplots(figsize=(10,5))\n",
    "\n",
    "ts = signal.flatten()[4*fs:] # cut transient\n",
    "nperseg = fs*3\n",
    "\n",
    "freq_wel, ps_wel = ss.welch(ts,fs=fs,nperseg=nperseg)\n",
    "\n",
    "\n",
    "axes.plot(freq_wel,ps_wel)\n",
    "#axes.loglog(freq_wel,ps_wel)\n",
    "axes.set_xlim(0,30)\n",
    "\n",
    "axes.set_ylabel(\"Power\",fontsize=16)\n",
    "axes.set_xlabel('Frequency (Hz)',fontsize=16)\n",
    "[axes.axvline(l,ls='--',color='k',alpha=.5) for l in [38,42]]\n",
    "_ = [axes.spines[spine].set_visible(False) for spine in ['top','right']]\n",
    "\n",
    "#plt.savefig('EEG-Spectrum-A1model.png',dpi=200)"
   ]
  },
  {
   "cell_type": "markdown",
   "metadata": {},
   "source": [
    "## MEG Signal"
   ]
  },
  {
   "cell_type": "code",
   "execution_count": null,
   "metadata": {
    "id": "C149rZYQsv85"
   },
   "outputs": [],
   "source": [
    "sensor_locations = np.array([[1E4,0,1E4],[-1E4,0,-1E4],[-1E4,0,1E4],[1E4,0,-1E4]])\n",
    "meg = MEG(sensor_locations)\n",
    "M = meg.get_transformation_matrix(pos)\n",
    "H = M @ dp.transpose() "
   ]
  },
  {
   "cell_type": "code",
   "execution_count": null,
   "metadata": {},
   "outputs": [],
   "source": [
    "print(np.shape(H))"
   ]
  },
  {
   "cell_type": "code",
   "execution_count": null,
   "metadata": {},
   "outputs": [],
   "source": [
    "sensor1 = H[0]\n",
    "sensor2 = H[1]\n",
    "sensor3 = H[2]\n",
    "sensor4 = H[3]"
   ]
  },
  {
   "cell_type": "code",
   "execution_count": null,
   "metadata": {},
   "outputs": [],
   "source": [
    "signal1 = np.empty(np.shape(sensor1)[1])\n",
    "for i in range(np.shape(sensor1)[1]):\n",
    "    signal1[i] =  np.linalg.norm(sensor1[:,i])\n",
    "\n",
    "signal2 = np.empty(np.shape(sensor2)[1])\n",
    "for i in range(np.shape(sensor2)[1]):\n",
    "    signal2[i] =  np.linalg.norm(sensor2[:,i])\n",
    "\n",
    "signal3 = np.empty(np.shape(sensor3)[1])\n",
    "for i in range(np.shape(sensor3)[1]):\n",
    "    signal3[i] =  np.linalg.norm(sensor3[:,i])\n",
    "\n",
    "signal4 = np.empty(np.shape(sensor4)[1])\n",
    "for i in range(np.shape(sensor4)[1]):\n",
    "    signal4[i] =  np.linalg.norm(sensor4[:,i])"
   ]
  },
  {
   "cell_type": "code",
   "execution_count": null,
   "metadata": {},
   "outputs": [],
   "source": [
    "meg_signal = np.sum([signal1,signal2,signal3,signal4],axis=0)/4. "
   ]
  },
  {
   "cell_type": "code",
   "execution_count": null,
   "metadata": {},
   "outputs": [],
   "source": [
    "fig, axes = plt.subplots(figsize=(12,20),ncols=1,nrows=5)\n",
    "\n",
    "\n",
    "axes[0].plot(times[s:e],signal1[s:e], lw=0.5)\n",
    "axes[1].plot(times[s:e],signal2[s:e], lw=0.5)\n",
    "axes[2].plot(times[s:e],signal3[s:e], lw=0.5)\n",
    "axes[3].plot(times[s:e],signal4[s:e], lw=0.5)\n",
    "axes[4].plot(times[s:e],meg_signal[s:e], lw=0.5)\n",
    "\n",
    "    \n",
    "# visual formatting\n",
    "[ax.spines[spine].set_visible(False) for spine in ['top','right'] for ax in axes]\n",
    "[ax.set_xlabel('Time (ms)',fontsize=16) for ax in axes]\n",
    "\n",
    "\n",
    "axes[0].set_ylabel('MEG amplitude sensor1 (?)',fontsize=14)\n",
    "axes[1].set_ylabel('MEG amplitude sensor2 (?)',fontsize=14)\n",
    "axes[2].set_ylabel('MEG amplitude sensor3 (?)',fontsize=14)\n",
    "axes[3].set_ylabel('MEG amplitude sensor4 (?)',fontsize=14)\n",
    "axes[4].set_ylabel('MEG amplitude average (?)',fontsize=14)"
   ]
  },
  {
   "cell_type": "code",
   "execution_count": null,
   "metadata": {},
   "outputs": [],
   "source": [
    "#######################\n",
    "# Calc & plot PSD\n",
    "#######################\n",
    "\n",
    "fig,axes = plt.subplots(figsize=(10,5))\n",
    "\n",
    "ts = meg_signal.flatten()[4*fs:] # cut transient\n",
    "nperseg = fs*3\n",
    "\n",
    "freq_wel, ps_wel = ss.welch(ts,fs=fs,nperseg=nperseg)\n",
    "\n",
    "\n",
    "axes.plot(freq_wel,ps_wel)\n",
    "#axes.loglog(freq_wel,ps_wel)\n",
    "axes.set_xlim(0,50)\n",
    "\n",
    "\n",
    "\n",
    "axes.set_ylabel(\"Power\",fontsize=16)\n",
    "axes.set_xlabel('Frequency (Hz)',fontsize=16)\n",
    "[axes.axvline(l,ls='--',color='k',alpha=.5) for l in [38,42]]\n",
    "_ = [axes.spines[spine].set_visible(False) for spine in ['top','right']]"
   ]
  },
  {
   "cell_type": "code",
   "execution_count": null,
   "metadata": {},
   "outputs": [],
   "source": []
  }
 ],
 "metadata": {
  "colab": {
   "provenance": []
  },
  "kernelspec": {
   "display_name": "Python 3 (ipykernel)",
   "language": "python",
   "name": "python3"
  },
  "language_info": {
   "codemirror_mode": {
    "name": "ipython",
    "version": 3
   },
   "file_extension": ".py",
   "mimetype": "text/x-python",
   "name": "python",
   "nbconvert_exporter": "python",
   "pygments_lexer": "ipython3",
   "version": "3.10.12"
  }
 },
 "nbformat": 4,
 "nbformat_minor": 1
}
