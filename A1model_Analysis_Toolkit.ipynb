{
 "cells": [
  {
   "cell_type": "code",
   "execution_count": null,
   "metadata": {
    "colab": {
     "base_uri": "https://localhost:8080/"
    },
    "id": "bhLBFW002gK6",
    "outputId": "dd2087d1-929f-433d-a315-8b1a756fcdbb"
   },
   "outputs": [],
   "source": [
    "!pip install netpyne"
   ]
  },
  {
   "cell_type": "code",
   "execution_count": null,
   "metadata": {
    "colab": {
     "base_uri": "https://localhost:8080/"
    },
    "id": "wioJ8NYX2uq5",
    "outputId": "514f9421-7b48-4d3c-8204-22d93d6e2828"
   },
   "outputs": [],
   "source": [
    "!pip install neuron"
   ]
  },
  {
   "cell_type": "code",
   "execution_count": null,
   "metadata": {
    "colab": {
     "base_uri": "https://localhost:8080/"
    },
    "id": "oAPzbVdQ6SIq",
    "outputId": "3355798b-8857-406f-8a38-87a52265b344"
   },
   "outputs": [],
   "source": [
    "!pip install mne"
   ]
  },
  {
   "cell_type": "code",
   "execution_count": null,
   "metadata": {
    "id": "yr-KTdron0Ct"
   },
   "outputs": [],
   "source": [
    "import numpy as np\n",
    "import matplotlib.pyplot as plt\n",
    "import matplotlib.mlab as mlab\n",
    "import seaborn as sns\n",
    "import pandas as pd\n",
    "import pickle\n",
    "import netpyne as netp\n",
    "import mne\n",
    "import lfpykit\n",
    "from lfpykit.eegmegcalc import NYHeadModel\n",
    "from lfpykit.eegmegcalc import FourSphereVolumeConductor"
   ]
  },
  {
   "cell_type": "code",
   "execution_count": null,
   "metadata": {
    "id": "-tS0Y9gTBYNQ"
   },
   "outputs": [],
   "source": [
    "%matplotlib inline"
   ]
  },
  {
   "cell_type": "markdown",
   "metadata": {
    "id": "lqNUnPnzBVc5"
   },
   "source": [
    "Using NetPyNE functions"
   ]
  },
  {
   "cell_type": "code",
   "execution_count": null,
   "metadata": {
    "colab": {
     "base_uri": "https://localhost:8080/"
    },
    "id": "b2C6FTUUqCMx",
    "outputId": "3b677fb0-b915-49e5-ade7-ce161941f74e"
   },
   "outputs": [],
   "source": [
    "netp.sim.loadAll('v34_batch_default_9_9_data.pkl')"
   ]
  },
  {
   "cell_type": "code",
   "execution_count": null,
   "metadata": {
    "colab": {
     "base_uri": "https://localhost:8080/",
     "height": 1000
    },
    "id": "uNMMZ2XuqUH2",
    "outputId": "9d692f31-9f4d-475b-99fb-cb58a8bbab0c"
   },
   "outputs": [],
   "source": [
    "netp.analysis.plotRaster(popRates=True, spikeHist=True)"
   ]
  },
  {
   "cell_type": "code",
   "execution_count": null,
   "metadata": {
    "colab": {
     "base_uri": "https://localhost:8080/",
     "height": 819
    },
    "id": "IwGuU9fUrB_k",
    "outputId": "1c9aa90f-83ed-486f-e710-10a995355804"
   },
   "outputs": [],
   "source": [
    "spike_stats = netp.analysis.plotSpikeStats(include=['IT2','IT3','ITP4','ITS4','IT5A','CT5A','IT5B','CT5B','PT5B','IT6','CT6'],timeRange=[1000,3000],stats=['rate'])"
   ]
  },
  {
   "cell_type": "code",
   "execution_count": null,
   "metadata": {
    "colab": {
     "base_uri": "https://localhost:8080/"
    },
    "id": "S9l5mW-AqIRu",
    "outputId": "6c2d8414-8813-4e82-b5df-c8ab22bc9939"
   },
   "outputs": [],
   "source": [
    "print(len(spike_stats[1]['statData'][1]))\n",
    "print(spike_stats[1]['statData'][1])"
   ]
  },
  {
   "cell_type": "code",
   "execution_count": null,
   "metadata": {
    "colab": {
     "base_uri": "https://localhost:8080/",
     "height": 1000
    },
    "id": "hAdyPjuwtUeq",
    "outputId": "55bb8331-c690-47e2-e177-53246cf2454e"
   },
   "outputs": [],
   "source": [
    "netp.analysis.plotSpikeHist()"
   ]
  },
  {
   "cell_type": "markdown",
   "metadata": {
    "id": "boL1xSc6ssWY"
   },
   "source": [
    "## LFP, CSD etc."
   ]
  },
  {
   "cell_type": "code",
   "execution_count": null,
   "metadata": {
    "id": "C149rZYQsv85"
   },
   "outputs": [],
   "source": []
  }
 ],
 "metadata": {
  "colab": {
   "provenance": []
  },
  "kernelspec": {
   "display_name": "Python 3 (ipykernel)",
   "language": "python",
   "name": "python3"
  },
  "language_info": {
   "codemirror_mode": {
    "name": "ipython",
    "version": 3
   },
   "file_extension": ".py",
   "mimetype": "text/x-python",
   "name": "python",
   "nbconvert_exporter": "python",
   "pygments_lexer": "ipython3",
   "version": "3.10.12"
  }
 },
 "nbformat": 4,
 "nbformat_minor": 1
}
